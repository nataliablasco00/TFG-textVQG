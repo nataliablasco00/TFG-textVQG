{
 "cells": [
  {
   "cell_type": "code",
   "execution_count": 12,
   "id": "0a07c045",
   "metadata": {},
   "outputs": [],
   "source": [
    "import os\n",
    "import json\n",
    "import matplotlib\n",
    "import matplotlib.image as mpimg\n",
    "import matplotlib.pyplot as plt\n",
    "import pandas as pd\n",
    "import seaborn as sns\n",
    "from collections import Counter\n",
    "import ast\n",
    "from tqdm import tqdm\n",
    "\n",
    "from nlgeval import NLGEval\n"
   ]
  },
  {
   "cell_type": "code",
   "execution_count": 13,
   "id": "2334f221",
   "metadata": {},
   "outputs": [],
   "source": [
    "with open(\"q_indices.json\") as file:\n",
    "    q_idxs = json.load(file)\n",
    "    file.close()\n",
    "with open(\"img_paths.json\") as file:\n",
    "    img_idxs = json.load(file)\n",
    "    file.close()"
   ]
  },
  {
   "cell_type": "code",
   "execution_count": 14,
   "id": "d3381a3b",
   "metadata": {},
   "outputs": [
    {
     "name": "stdout",
     "output_type": "stream",
     "text": [
      "5459\n"
     ]
    }
   ],
   "source": [
    "with open(f\"./random/tf1/results-OCR/q_indices.json\") as file:\n",
    "    Lines = file.readlines()\n",
    "  \n",
    "    count = 0\n",
    "    # Strips the newline character\n",
    "    for line in Lines:\n",
    "        count += 1\n",
    "print(count)"
   ]
  },
  {
   "cell_type": "code",
   "execution_count": 15,
   "id": "70662bfd",
   "metadata": {},
   "outputs": [],
   "source": [
    "with open(f\"./data_textVQA/TextVQA_0.5.1_train.json\") as file:\n",
    "    text_VQA = json.load(file)\n",
    "    file.close()\n",
    "    \n",
    "with open(f\"./data_textVQA/TextVQA_0.5.1_val.json\") as file:\n",
    "    text_VQA_val = json.load(file)\n",
    "    file.close()\n",
    "    \n",
    "with open(f\"./data_textVQA/TextVQA_Rosetta_OCR_v0.2_train.json\") as file:\n",
    "    text_VQA_OCR = json.load(file)\n",
    "    file.close()\n",
    "    \n",
    "with open(f\"./data_textVQA/TextOCR_0.1_train.json\") as file:\n",
    "    text_OCR = json.load(file)\n",
    "    file.close()"
   ]
  },
  {
   "cell_type": "code",
   "execution_count": 16,
   "id": "d0015809",
   "metadata": {},
   "outputs": [],
   "source": [
    "for i in text_VQA_val[\"data\"]:\n",
    "    text_VQA[\"data\"].append(i)"
   ]
  },
  {
   "cell_type": "code",
   "execution_count": 17,
   "id": "21934a61",
   "metadata": {},
   "outputs": [
    {
     "name": "stdout",
     "output_type": "stream",
     "text": [
      "39601\n"
     ]
    }
   ],
   "source": [
    "ant_id = 0\n",
    "for i in text_VQA[\"data\"]:\n",
    "    if ant_id < i[\"question_id\"]:\n",
    "        ant_id = i[\"question_id\"]\n",
    "print(ant_id)"
   ]
  },
  {
   "cell_type": "code",
   "execution_count": 18,
   "id": "fceeea24",
   "metadata": {},
   "outputs": [
    {
     "name": "stderr",
     "output_type": "stream",
     "text": [
      "100%|█████████████████████████████████████| 5459/5459 [3:20:15<00:00,  2.20s/it]\n"
     ]
    }
   ],
   "source": [
    "data = [] # TODO: change to new_data\n",
    "for l in tqdm(Lines):\n",
    "    for register in ast.literal_eval(l):\n",
    "        for i in text_VQA[\"data\"]:\n",
    "            #print(i[\"image_id\"], \" - \", img_idxs[str(register[\"idx\"])].replace(\"./\", \"\"))\n",
    "            if i[\"image_id\"] == img_idxs[str(register[\"idx\"])].replace(\"./\", \"\"):\n",
    "                for j in text_VQA_OCR[\"data\"]:\n",
    "                    if j[\"image_id\"] == img_idxs[str(register[\"idx\"])].replace(\"./\", \"\"):\n",
    "                        ant_id += 1\n",
    "                        ocr = text_OCR[\"anns\"][q_idxs[str(register[\"q_idx\"])]]\n",
    "                        aux = i.copy()\n",
    "                        aux[\"ocr_tokens\"] = j[\"ocr_tokens\"]\n",
    "                        aux[\"question\"] = register[\"question\"]\n",
    "                        aux[\"answers\"] = ocr[\"utf8_string\"]\n",
    "                        aux[\"question_tokens\"] = register[\"question\"].replace(' ?','').split(\" \")\n",
    "                        aux[\"question_id\"] = ant_id\n",
    "                        aux[\"image_name\"] = aux[\"image_id\"]\n",
    "                        aux[\"image_path\"] = f\"train/{aux['image_name']}.jpg\"\n",
    "                        if aux[\"answers\"] in aux[\"ocr_tokens\"]:\n",
    "                            aux[\"ocr_info\"] = j[\"ocr_info\"]\n",
    "                            data.append(aux)\n",
    "                            break\n",
    "                break\n",
    "\n",
    "        \n",
    "        "
   ]
  },
  {
   "cell_type": "code",
   "execution_count": 19,
   "id": "fd1c9a09",
   "metadata": {},
   "outputs": [],
   "source": [
    "d = {}\n",
    "d[\"dataset_type\"] = \"train\"\n",
    "d[\"dataset_name\"] = \"Automatic Question Generation\"\n",
    "d[\"data\"] = data\n",
    "with open('data_textOCR-VQA-2.json', 'w') as fp:\n",
    "    json.dump(d, fp)"
   ]
  },
  {
   "cell_type": "code",
   "execution_count": 20,
   "id": "654c682f",
   "metadata": {
    "scrolled": false
   },
   "outputs": [
    {
     "data": {
      "text/plain": [
       "179765"
      ]
     },
     "execution_count": 20,
     "metadata": {},
     "output_type": "execute_result"
    }
   ],
   "source": [
    "len(data)"
   ]
  },
  {
   "cell_type": "code",
   "execution_count": null,
   "id": "b65215d8",
   "metadata": {},
   "outputs": [],
   "source": []
  }
 ],
 "metadata": {
  "kernelspec": {
   "display_name": "Python 3",
   "language": "python",
   "name": "python3"
  },
  "language_info": {
   "codemirror_mode": {
    "name": "ipython",
    "version": 3
   },
   "file_extension": ".py",
   "mimetype": "text/x-python",
   "name": "python",
   "nbconvert_exporter": "python",
   "pygments_lexer": "ipython3",
   "version": "3.7.11"
  }
 },
 "nbformat": 4,
 "nbformat_minor": 5
}
